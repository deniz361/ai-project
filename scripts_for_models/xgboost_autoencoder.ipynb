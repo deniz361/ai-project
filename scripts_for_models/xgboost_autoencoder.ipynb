{
  "nbformat": 4,
  "nbformat_minor": 0,
  "metadata": {
    "colab": {
      "provenance": []
    },
    "kernelspec": {
      "name": "python3",
      "display_name": "Python 3"
    },
    "language_info": {
      "name": "python"
    }
  },
  "cells": [
    {
      "cell_type": "code",
      "source": [],
      "metadata": {
        "id": "C0gxvQMdM2m2"
      },
      "execution_count": null,
      "outputs": []
    },
    {
      "cell_type": "markdown",
      "source": [
        "# New Section"
      ],
      "metadata": {
        "id": "KhaIwi3gRyia"
      }
    },
    {
      "cell_type": "code",
      "source": [
        "import pandas as pd\n",
        "\n",
        "# Load the datasets\n",
        "train_df = pd.read_csv('/train.csv')\n",
        "test_df = pd.read_csv('/test.csv')\n",
        "validation_df = pd.read_csv('/val.csv')\n",
        "\n",
        "# Use only 30% of the training data\n",
        "train_df = train_df.sample(frac=1.0, random_state=42)\n",
        "\n",
        "# Separate features and target\n",
        "X_train = train_df.drop(columns=['anomaly'])\n",
        "y_train = train_df['anomaly']\n",
        "X_test = test_df.drop(columns=['anomaly'])\n",
        "y_test = test_df['anomaly']\n",
        "X_validation = validation_df.drop(columns=['anomaly'])\n",
        "y_validation = validation_df['anomaly']\n",
        "\n",
        "# Columns\n",
        "categorical_columns = [\"Material number\", \"Supplier\", \"Contract\", \"Contract Position\", \"Procurement type\",\n",
        "                       \"Special procurement type\", \"Dispatcher\", \"Buyer\", \"Purchasing group\",\n",
        "                       \"Purchasing lot size\", \"Calendar\", \"Plant\", \"Plant information record\",\n",
        "                       \"Information record number\", \"Information record type\", \"Product group\",\n",
        "                       \"Base unit\"]\n",
        "numerical_columns = [\"Fulfillment time\", \"Fixed contract 1\", \"Fixed contract 2\", \"Total quantity\", \"Total value\",\n",
        "                     \"Price unit\", \"Plant processing time\", \"Material master time\"]\n"
      ],
      "metadata": {
        "id": "praQDjQrM2pA"
      },
      "execution_count": 1,
      "outputs": []
    },
    {
      "cell_type": "code",
      "source": [
        "from sklearn.preprocessing import StandardScaler\n",
        "\n",
        "scaler = StandardScaler()\n",
        "X_train_num = scaler.fit_transform(X_train[numerical_columns])\n",
        "X_test_num = scaler.transform(X_test[numerical_columns])\n",
        "X_validation_num = scaler.transform(X_validation[numerical_columns])\n"
      ],
      "metadata": {
        "id": "6gMqILlFM2rk"
      },
      "execution_count": 2,
      "outputs": []
    },
    {
      "cell_type": "code",
      "source": [
        "from sklearn.preprocessing import LabelEncoder\n",
        "import numpy as np\n",
        "from tensorflow.keras.models import Model\n",
        "from tensorflow.keras.layers import Input, Dense\n",
        "\n",
        "# Combine all data to fit the label encoder\n",
        "combined_cat = pd.concat([X_train[categorical_columns], X_test[categorical_columns], X_validation[categorical_columns]])\n",
        "\n",
        "# Label encoding for categorical columns\n",
        "label_encoders = {col: LabelEncoder().fit(combined_cat[col].astype(str)) for col in categorical_columns}\n",
        "\n",
        "# Transform the data using the label encoders\n",
        "X_train_cat_enc = np.stack([label_encoders[col].transform(X_train[col].astype(str)) for col in categorical_columns], axis=1)\n",
        "X_test_cat_enc = np.stack([label_encoders[col].transform(X_test[col].astype(str)) for col in categorical_columns], axis=1)\n",
        "X_validation_cat_enc = np.stack([label_encoders[col].transform(X_validation[col].astype(str)) for col in categorical_columns], axis=1)\n"
      ],
      "metadata": {
        "id": "p4_MKX1qM2vF"
      },
      "execution_count": 3,
      "outputs": []
    },
    {
      "cell_type": "code",
      "source": [
        "# Autoencoder structure\n",
        "input_dim = X_train_cat_enc.shape[1]\n",
        "encoding_dim = 10  # Dimension of the encoded representation\n",
        "\n",
        "input_layer = Input(shape=(input_dim,))\n",
        "encoder = Dense(encoding_dim, activation=\"relu\")(input_layer)\n",
        "decoder = Dense(input_dim, activation=\"sigmoid\")(encoder)\n",
        "autoencoder = Model(inputs=input_layer, outputs=decoder)\n",
        "autoencoder.compile(optimizer='adam', loss='binary_crossentropy')\n",
        "\n",
        "# Train the autoencoder\n",
        "autoencoder.fit(X_train_cat_enc, X_train_cat_enc,\n",
        "                epochs=10,\n",
        "                batch_size=256,\n",
        "                shuffle=True,\n",
        "                validation_split=0.2)\n",
        "\n",
        "# Get the encoder part\n",
        "encoder_model = Model(inputs=input_layer, outputs=encoder)\n",
        "\n",
        "# Encode the categorical features\n",
        "X_train_cat_enc = encoder_model.predict(X_train_cat_enc)\n",
        "X_test_cat_enc = encoder_model.predict(X_test_cat_enc)\n",
        "X_validation_cat_enc = encoder_model.predict(X_validation_cat_enc)\n"
      ],
      "metadata": {
        "colab": {
          "base_uri": "https://localhost:8080/"
        },
        "id": "hXnPJmM2Vzkn",
        "outputId": "1f44692f-6cb7-49e1-d685-7640e360865c"
      },
      "execution_count": 4,
      "outputs": [
        {
          "output_type": "stream",
          "name": "stdout",
          "text": [
            "Epoch 1/10\n",
            "497/497 [==============================] - 3s 3ms/step - loss: -797600896.0000 - val_loss: -2661810944.0000\n",
            "Epoch 2/10\n",
            "497/497 [==============================] - 1s 3ms/step - loss: -6627763200.0000 - val_loss: -11494593536.0000\n",
            "Epoch 3/10\n",
            "497/497 [==============================] - 1s 3ms/step - loss: -18469801984.0000 - val_loss: -26381330432.0000\n",
            "Epoch 4/10\n",
            "497/497 [==============================] - 1s 3ms/step - loss: -36081393664.0000 - val_loss: -46386704384.0000\n",
            "Epoch 5/10\n",
            "497/497 [==============================] - 1s 3ms/step - loss: -58271965184.0000 - val_loss: -70567985152.0000\n",
            "Epoch 6/10\n",
            "497/497 [==============================] - 1s 3ms/step - loss: -84466049024.0000 - val_loss: -98571239424.0000\n",
            "Epoch 7/10\n",
            "497/497 [==============================] - 1s 3ms/step - loss: -114336645120.0000 - val_loss: -130104492032.0000\n",
            "Epoch 8/10\n",
            "497/497 [==============================] - 2s 5ms/step - loss: -147656818688.0000 - val_loss: -164987060224.0000\n",
            "Epoch 9/10\n",
            "497/497 [==============================] - 2s 4ms/step - loss: -184251580416.0000 - val_loss: -203090919424.0000\n",
            "Epoch 10/10\n",
            "497/497 [==============================] - 1s 3ms/step - loss: -224060473344.0000 - val_loss: -244326334464.0000\n",
            "4961/4961 [==============================] - 8s 2ms/step\n",
            "292/292 [==============================] - 0s 1ms/step\n",
            "584/584 [==============================] - 1s 1ms/step\n"
          ]
        }
      ]
    },
    {
      "cell_type": "code",
      "source": [
        "# Combine the numerical and encoded categorical features\n",
        "X_train_final = np.hstack((X_train_num, X_train_cat_enc))\n",
        "X_test_final = np.hstack((X_test_num, X_test_cat_enc))\n",
        "X_validation_final = np.hstack((X_validation_num, X_validation_cat_enc))\n"
      ],
      "metadata": {
        "id": "DdzpA0cJM20L"
      },
      "execution_count": 5,
      "outputs": []
    },
    {
      "cell_type": "code",
      "source": [
        "import xgboost as xgb\n",
        "from sklearn.metrics import accuracy_score\n",
        "import joblib\n",
        "\n",
        "# Initialize the model\n",
        "model = xgb.XGBClassifier()\n",
        "\n",
        "# Train the model\n",
        "model.fit(X_train_final, y_train)\n",
        "\n",
        "# Predict and evaluate\n",
        "y_pred = model.predict(X_test_final)\n",
        "accuracy = accuracy_score(y_test, y_pred)\n",
        "print(f\"Accuracy: {accuracy}\")\n",
        "\n",
        "# Save the model\n",
        "joblib.dump(model, 'xgboost_model.joblib')\n"
      ],
      "metadata": {
        "colab": {
          "base_uri": "https://localhost:8080/"
        },
        "id": "X9-vXFWIR7Qa",
        "outputId": "ff292ef0-4d59-47b5-8017-d9533f5a40ff"
      },
      "execution_count": 6,
      "outputs": [
        {
          "output_type": "stream",
          "name": "stdout",
          "text": [
            "Accuracy: 0.835832083958021\n"
          ]
        },
        {
          "output_type": "execute_result",
          "data": {
            "text/plain": [
              "['xgboost_model.joblib']"
            ]
          },
          "metadata": {},
          "execution_count": 6
        }
      ]
    },
    {
      "cell_type": "code",
      "source": [
        "# Load the model\n",
        "model = joblib.load('xgboost_model.joblib')\n",
        "\n",
        "# Validate the model\n",
        "y_val_pred = model.predict(X_validation_final)\n",
        "val_accuracy = accuracy_score(y_validation, y_val_pred)\n",
        "print(f\"Validation Accuracy: {val_accuracy}\")\n"
      ],
      "metadata": {
        "colab": {
          "base_uri": "https://localhost:8080/"
        },
        "id": "dOtS-L5ER7TE",
        "outputId": "dee47e25-e64f-4556-9828-4f96b6064deb"
      },
      "execution_count": 7,
      "outputs": [
        {
          "output_type": "stream",
          "name": "stdout",
          "text": [
            "Validation Accuracy: 0.8389376740201328\n"
          ]
        }
      ]
    },
    {
      "cell_type": "code",
      "source": [
        "import xgboost as xgb\n",
        "from sklearn.metrics import accuracy_score\n",
        "import joblib\n",
        "import numpy as np\n",
        "import matplotlib.pyplot as plt\n",
        "\n",
        "# Load the model\n",
        "model = joblib.load('xgboost_model.joblib')\n",
        "\n",
        "# Get feature importances\n",
        "feature_importances = model.feature_importances_\n",
        "\n",
        "# Combine feature names\n",
        "feature_names = numerical_columns + categorical_columns\n",
        "\n",
        "# Get the indices of the top 5 important features\n",
        "top_5_indices = np.argsort(feature_importances)[-5:][::-1]\n",
        "\n",
        "# Get the top 5 feature names\n",
        "top_5_features = [feature_names[i] for i in top_5_indices]\n",
        "\n",
        "print(\"Top 5 features that show the most anomalies:\")\n",
        "for feature in top_5_features:\n",
        "    print(feature)\n",
        "\n",
        "# Plot feature importances\n",
        "plt.figure(figsize=(10, 6))\n",
        "plt.barh(range(5), feature_importances[top_5_indices], align='center')\n",
        "plt.yticks(range(5), [feature_names[i] for i in top_5_indices])\n",
        "plt.xlabel(\"Feature Importance\")\n",
        "plt.title(\"Top 5 Features Showing Most Anomalies\")\n",
        "plt.gca().invert_yaxis()\n",
        "plt.show()\n"
      ],
      "metadata": {
        "colab": {
          "base_uri": "https://localhost:8080/",
          "height": 668
        },
        "id": "B1TxpxqhR7Vy",
        "outputId": "19ad78cd-47c3-4ea3-b21f-560f34f0a9bb"
      },
      "execution_count": 8,
      "outputs": [
        {
          "output_type": "stream",
          "name": "stdout",
          "text": [
            "Top 5 features that show the most anomalies:\n",
            "Fulfillment time\n",
            "Buyer\n",
            "Contract Position\n",
            "Special procurement type\n",
            "Plant processing time\n"
          ]
        },
        {
          "output_type": "display_data",
          "data": {
            "text/plain": [
              "<Figure size 1000x600 with 1 Axes>"
            ],
            "image/png": "[encoded data removed]"
          },
          "metadata": {}
        }
      ]
    },
    {
      "cell_type": "code",
      "source": [
        "# Extract rows where anomaly label is 1\n",
        "anomalies = train_df[train_df['anomaly'] == 1]\n",
        "\n",
        "# Show examples of data from the top features\n",
        "print(f\"Examples of data from top features showing anomalies:\")\n",
        "print(anomalies[top_5_features].head())\n"
      ],
      "metadata": {
        "colab": {
          "base_uri": "https://localhost:8080/"
        },
        "id": "YRufPkkPYIZx",
        "outputId": "8f8dc516-1cd8-4fe0-b8b0-be944b85563e"
      },
      "execution_count": 9,
      "outputs": [
        {
          "output_type": "stream",
          "name": "stdout",
          "text": [
            "Examples of data from top features showing anomalies:\n",
            "        Fulfillment time  Buyer  Contract Position  Special procurement type  \\\n",
            "8693                   0  233.0                  0                      40.0   \n",
            "153015                 0  211.0                  0                       NaN   \n",
            "94224                  0  224.0                  0                      40.0   \n",
            "126016                 0  203.0                  0                      41.0   \n",
            "126763                 0  203.0                  0                       NaN   \n",
            "\n",
            "        Plant processing time  \n",
            "8693                        1  \n",
            "153015                      1  \n",
            "94224                       1  \n",
            "126016                      1  \n",
            "126763                      1  \n"
          ]
        }
      ]
    },
    {
      "cell_type": "code",
      "source": [],
      "metadata": {
        "id": "5ervUraoYIiH"
      },
      "execution_count": null,
      "outputs": []
    }
  ]
}