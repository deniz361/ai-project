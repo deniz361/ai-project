{
 "cells": [
  {
   "cell_type": "code",
   "execution_count": 1,
   "id": "76c9063d",
   "metadata": {},
   "outputs": [],
   "source": [
    "import pandas as pd\n",
    "from sklearn.ensemble import RandomForestClassifier\n",
    "from sklearn.metrics import classification_report, confusion_matrix, accuracy_score"
   ]
  },
  {
   "cell_type": "code",
   "execution_count": 2,
   "id": "5822b735",
   "metadata": {},
   "outputs": [],
   "source": [
    "# Load the final_anomalies dataset (training data)\n",
    "final_anomalies = pd.read_csv('datasets/final_anomalies.csv')\n",
    "\n",
    "# Load the sampled dataset (test data)\n",
    "sampled_data = pd.read_csv('datasets/sampled_data.csv', nrows=10000)"
   ]
  },
  {
   "cell_type": "code",
   "execution_count": 3,
   "id": "bc2c9500",
   "metadata": {},
   "outputs": [
    {
     "name": "stdout",
     "output_type": "stream",
     "text": [
      "1.0    362\n",
      "0.0    329\n",
      "Name: anomaly_normal, dtype: int64\n"
     ]
    }
   ],
   "source": [
    "# Check the distribution of the anomaly_normal column\n",
    "label_distribution = final_anomalies['anomaly_normal'].value_counts()\n",
    "print(label_distribution)\n"
   ]
  },
  {
   "cell_type": "code",
   "execution_count": 4,
   "id": "8298fcc7",
   "metadata": {},
   "outputs": [
    {
     "name": "stdout",
     "output_type": "stream",
     "text": [
      "<class 'pandas.core.frame.DataFrame'>\n",
      "RangeIndex: 691 entries, 0 to 690\n",
      "Data columns (total 31 columns):\n",
      " #   Column                    Non-Null Count  Dtype  \n",
      "---  ------                    --------------  -----  \n",
      " 0   Materialnummer            691 non-null    object \n",
      " 1   Lieferant OB              691 non-null    float64\n",
      " 2   Vertrag OB                410 non-null    float64\n",
      " 3   Vertragsposition OB       691 non-null    float64\n",
      " 4   Planlieferzeit Vertrag    691 non-null    float64\n",
      " 5   Vertrag Fix1              691 non-null    int64  \n",
      " 6   Vertrag_Fix2              691 non-null    int64  \n",
      " 7   Beschaffungsart           691 non-null    object \n",
      " 8   Sonderbeschaffungsart     307 non-null    float64\n",
      " 9   Disponent                 691 non-null    int64  \n",
      " 10  Einkäufer                 691 non-null    float64\n",
      " 11  DispoGruppe               691 non-null    object \n",
      " 12  Dispolosgröße             691 non-null    object \n",
      " 13  Gesamtbestand             691 non-null    float64\n",
      " 14  Gesamtwert                691 non-null    float64\n",
      " 15  Preis pro Stück           691 non-null    float64\n",
      " 16  Preiseinheit              691 non-null    float64\n",
      " 17  Kalender                  385 non-null    object \n",
      " 18  Werk OB                   691 non-null    float64\n",
      " 19  Werk Infosatz             56 non-null     float64\n",
      " 20  Infosatznummer            625 non-null    float64\n",
      " 21  Infosatztyp               625 non-null    float64\n",
      " 22  WE_Bearbeitungszeit       691 non-null    int64  \n",
      " 23  Planlieferzeit Mat-Stamm  691 non-null    int64  \n",
      " 24  Warengruppe               691 non-null    int64  \n",
      " 25  Basiseinheit              691 non-null    object \n",
      " 26  correct                   389 non-null    float64\n",
      " 27  uuid                      691 non-null    object \n",
      " 28  outlier_features          389 non-null    object \n",
      " 29  algorithm                 691 non-null    object \n",
      " 30  anomaly_normal            691 non-null    float64\n",
      "dtypes: float64(16), int64(6), object(9)\n",
      "memory usage: 167.5+ KB\n"
     ]
    }
   ],
   "source": [
    "final_anomalies.info()"
   ]
  },
  {
   "cell_type": "code",
   "execution_count": 5,
   "id": "9dd9a4ed",
   "metadata": {},
   "outputs": [
    {
     "name": "stdout",
     "output_type": "stream",
     "text": [
      "<class 'pandas.core.frame.DataFrame'>\n",
      "RangeIndex: 18676 entries, 0 to 18675\n",
      "Data columns (total 25 columns):\n",
      " #   Column                    Non-Null Count  Dtype  \n",
      "---  ------                    --------------  -----  \n",
      " 0   Materialnummer            18676 non-null  object \n",
      " 1   Lieferant OB              18676 non-null  int64  \n",
      " 2   Vertrag OB                667 non-null    float64\n",
      " 3   Vertragsposition OB       18676 non-null  int64  \n",
      " 4   Planlieferzeit Vertrag    18676 non-null  int64  \n",
      " 5   Vertrag Fix1              18676 non-null  int64  \n",
      " 6   Vertrag_Fix2              18676 non-null  int64  \n",
      " 7   Beschaffungsart           18676 non-null  object \n",
      " 8   Sonderbeschaffungsart     7430 non-null   float64\n",
      " 9   Disponent                 18676 non-null  int64  \n",
      " 10  Einkäufer                 18676 non-null  float64\n",
      " 11  DispoGruppe               18663 non-null  object \n",
      " 12  Dispolosgröße             18676 non-null  object \n",
      " 13  Gesamtbestand             18676 non-null  int64  \n",
      " 14  Gesamtwert                18676 non-null  int64  \n",
      " 15  Preiseinheit              18676 non-null  int64  \n",
      " 16  Kalender                  7244 non-null   object \n",
      " 17  Werk OB                   18676 non-null  int64  \n",
      " 18  Werk Infosatz             6776 non-null   float64\n",
      " 19  Infosatznummer            18595 non-null  float64\n",
      " 20  Infosatztyp               18595 non-null  float64\n",
      " 21  WE-Bearbeitungszeit       18676 non-null  int64  \n",
      " 22  Planlieferzeit Mat-Stamm  18676 non-null  int64  \n",
      " 23  Warengruppe               18676 non-null  object \n",
      " 24  Basiseinheit              18676 non-null  object \n",
      "dtypes: float64(6), int64(12), object(7)\n",
      "memory usage: 3.6+ MB\n"
     ]
    }
   ],
   "source": [
    "sampled_data.info()"
   ]
  },
  {
   "cell_type": "code",
   "execution_count": 6,
   "id": "427d6a14",
   "metadata": {},
   "outputs": [],
   "source": [
    "# Define the features to be used\n",
    "features = [\"Planlieferzeit Vertrag\", \"Vertrag Fix1\", \"Vertrag_Fix2\", \"Gesamtbestand\", \"Gesamtwert\", \"Preiseinheit\", \"WE_Bearbeitungszeit\", \"Planlieferzeit Mat-Stamm\"]"
   ]
  },
  {
   "cell_type": "code",
   "execution_count": 7,
   "id": "da8074d1",
   "metadata": {},
   "outputs": [],
   "source": [
    "# Rename the column in the test data to match the training data\n",
    "sampled_data.rename(columns={'WE-Bearbeitungszeit': 'WE_Bearbeitungszeit'}, inplace=True)"
   ]
  },
  {
   "cell_type": "code",
   "execution_count": 8,
   "id": "4f7be4db",
   "metadata": {},
   "outputs": [],
   "source": [
    "# Prepare the training data\n",
    "X_train = final_anomalies[features]\n",
    "y_train = final_anomalies['anomaly_normal']"
   ]
  },
  {
   "cell_type": "code",
   "execution_count": 9,
   "id": "5c660a32",
   "metadata": {},
   "outputs": [],
   "source": [
    "# Prepare the test data\n",
    "X_test = sampled_data[features]"
   ]
  },
  {
   "cell_type": "code",
   "execution_count": 10,
   "id": "66499486",
   "metadata": {},
   "outputs": [],
   "source": [
    "# Fill missing values (if any) with the mean of the respective column\n",
    "X_train = X_train.fillna(X_train.mean())\n",
    "X_test = X_test.fillna(X_test.mean())"
   ]
  },
  {
   "cell_type": "code",
   "execution_count": 11,
   "id": "08d51167",
   "metadata": {},
   "outputs": [
    {
     "data": {
      "text/plain": [
       "RandomForestClassifier(random_state=42)"
      ]
     },
     "execution_count": 11,
     "metadata": {},
     "output_type": "execute_result"
    }
   ],
   "source": [
    "# Train the Random Forest model\n",
    "rf_model = RandomForestClassifier(n_estimators=100, random_state=42)\n",
    "rf_model.fit(X_train, y_train)"
   ]
  },
  {
   "cell_type": "code",
   "execution_count": 12,
   "id": "6111ae1e",
   "metadata": {},
   "outputs": [
    {
     "name": "stdout",
     "output_type": "stream",
     "text": [
      "Training Accuracy: 0.9088277858176556\n",
      "Confusion Matrix:\n",
      " [[308  21]\n",
      " [ 42 320]]\n",
      "Classification Report:\n",
      "               precision    recall  f1-score   support\n",
      "\n",
      "         0.0       0.88      0.94      0.91       329\n",
      "         1.0       0.94      0.88      0.91       362\n",
      "\n",
      "    accuracy                           0.91       691\n",
      "   macro avg       0.91      0.91      0.91       691\n",
      "weighted avg       0.91      0.91      0.91       691\n",
      "\n"
     ]
    }
   ],
   "source": [
    "# Evaluate on the training set\n",
    "y_train_pred = rf_model.predict(X_train)\n",
    "print(\"Training Accuracy:\", accuracy_score(y_train, y_train_pred))\n",
    "print(\"Confusion Matrix:\\n\", confusion_matrix(y_train, y_train_pred))\n",
    "print(\"Classification Report:\\n\", classification_report(y_train, y_train_pred))"
   ]
  },
  {
   "cell_type": "code",
   "execution_count": 13,
   "id": "53402c97",
   "metadata": {},
   "outputs": [],
   "source": [
    "# Test on the sampled dataset\n",
    "y_test_pred = rf_model.predict(X_test)\n",
    "predictions = pd.DataFrame(y_test_pred, columns=['Predicted_Anomalies'])"
   ]
  },
  {
   "cell_type": "code",
   "execution_count": 14,
   "id": "f1c7b2e3",
   "metadata": {},
   "outputs": [],
   "source": [
    "# Get the anomaly scores (probabilities) for the test data\n",
    "anomaly_scores = rf_model.predict_proba(X_test)[:, 0]  # Probability of being an anomaly (class 0)"
   ]
  },
  {
   "cell_type": "code",
   "execution_count": 15,
   "id": "5006901d",
   "metadata": {},
   "outputs": [],
   "source": [
    "# Add the anomaly scores as a new column to the test data\n",
    "sampled_data['Anomaly_Score'] = anomaly_scores"
   ]
  },
  {
   "cell_type": "code",
   "execution_count": 16,
   "id": "795b86f9",
   "metadata": {},
   "outputs": [
    {
     "name": "stdout",
     "output_type": "stream",
     "text": [
      "  Materialnummer  Lieferant OB    Vertrag OB  Vertragsposition OB  \\\n",
      "0     23884900UB        700000           NaN                    0   \n",
      "1       00360029        701806  5.500001e+09                   10   \n",
      "2       04002905        706808           NaN                    0   \n",
      "3       60022412          1000           NaN                    0   \n",
      "4     01568000UB        700000           NaN                    0   \n",
      "\n",
      "   Planlieferzeit Vertrag  Vertrag Fix1  Vertrag_Fix2 Beschaffungsart  \\\n",
      "0                       0             0             0               F   \n",
      "1                       4             4            60               F   \n",
      "2                       0             0             0               F   \n",
      "3                       0             0             0               F   \n",
      "4                       0             0             0               F   \n",
      "\n",
      "   Sonderbeschaffungsart  Disponent  ...  Kalender Werk OB Werk Infosatz  \\\n",
      "0                    NaN        723  ...       E20    2000           NaN   \n",
      "1                    NaN        708  ...       E98    2100           NaN   \n",
      "2                    NaN        272  ...       NaN    3000           NaN   \n",
      "3                    NaN        991  ...       NaN    2100           NaN   \n",
      "4                    NaN        223  ...       E19    2100           NaN   \n",
      "\n",
      "   Infosatznummer  Infosatztyp  WE_Bearbeitungszeit Planlieferzeit Mat-Stamm  \\\n",
      "0    5.300024e+09          0.0                    1                       56   \n",
      "1    5.300174e+09          0.0                    2                        4   \n",
      "2    5.300107e+09          0.0                    1                       14   \n",
      "3    5.300376e+09          0.0                    1                       42   \n",
      "4    5.300179e+09          0.0                    1                       64   \n",
      "\n",
      "   Warengruppe  Basiseinheit  Anomaly_Score  \n",
      "0     10401000            ST       0.175464  \n",
      "1    140100000            ST       0.430000  \n",
      "2    130600000            ST       0.685000  \n",
      "3     10402000            ST       0.443142  \n",
      "4     10401000            ST       0.594039  \n",
      "\n",
      "[5 rows x 26 columns]\n"
     ]
    }
   ],
   "source": [
    "# Save the DataFrame with anomaly scores to a CSV file\n",
    "sampled_data.to_csv('sampled_data_with_anomaly_scores.csv', index=False)\n",
    "\n",
    "# Print the first few rows of the DataFrame\n",
    "print(sampled_data.head())"
   ]
  },
  {
   "cell_type": "code",
   "execution_count": 17,
   "id": "00e7df9d",
   "metadata": {},
   "outputs": [
    {
     "name": "stdout",
     "output_type": "stream",
     "text": [
      "   Predicted_Anomalies\n",
      "0                  1.0\n",
      "1                  1.0\n",
      "2                  0.0\n",
      "3                  1.0\n",
      "4                  0.0\n"
     ]
    }
   ],
   "source": [
    "# Print the first few predictions\n",
    "print(predictions.head())"
   ]
  },
  {
   "cell_type": "code",
   "execution_count": 18,
   "id": "6c234676",
   "metadata": {},
   "outputs": [
    {
     "name": "stdout",
     "output_type": "stream",
     "text": [
      "Cross-Validation Scores: [0.49640288 0.71014493 0.72463768 0.5942029  0.37681159]\n",
      "Mean Cross-Validation Score: 0.5804399958294234\n",
      "Standard Deviation of Cross-Validation Scores: 0.13140207184648756\n"
     ]
    }
   ],
   "source": [
    "from sklearn.model_selection import cross_val_score\n",
    "\n",
    "# Perform 5-fold cross-validation\n",
    "cv_scores = cross_val_score(rf_model, X_train, y_train, cv=5, scoring='accuracy')\n",
    "\n",
    "print(\"Cross-Validation Scores:\", cv_scores)\n",
    "print(\"Mean Cross-Validation Score:\", cv_scores.mean())\n",
    "print(\"Standard Deviation of Cross-Validation Scores:\", cv_scores.std())\n"
   ]
  },
  {
   "cell_type": "code",
   "execution_count": 19,
   "id": "3f8c7ac5",
   "metadata": {},
   "outputs": [
    {
     "data": {
      "image/png": "[encoded data removed]",
      "text/plain": [
       "<Figure size 720x432 with 1 Axes>"
      ]
     },
     "metadata": {
      "needs_background": "light"
     },
     "output_type": "display_data"
    }
   ],
   "source": [
    "import matplotlib.pyplot as plt\n",
    "import numpy as np\n",
    "\n",
    "# Get feature importances from the trained model\n",
    "feature_importances = rf_model.feature_importances_\n",
    "\n",
    "# Plot feature importances\n",
    "plt.figure(figsize=(10, 6))\n",
    "plt.barh(features, feature_importances, color='skyblue')\n",
    "plt.xlabel('Feature Importance')\n",
    "plt.title('Feature Importance in Random Forest Model')\n",
    "plt.show()"
   ]
  },
  {
   "cell_type": "code",
   "execution_count": 20,
   "id": "0f1b75a6",
   "metadata": {},
   "outputs": [],
   "source": [
    "sampled_data = pd.read_csv('sampled_data_with_anomaly_scores.csv')"
   ]
  },
  {
   "cell_type": "code",
   "execution_count": 21,
   "id": "4d57a3a7",
   "metadata": {},
   "outputs": [
    {
     "data": {
      "image/png": "[encoded data removed]",
      "text/plain": [
       "<Figure size 432x288 with 1 Axes>"
      ]
     },
     "metadata": {
      "needs_background": "light"
     },
     "output_type": "display_data"
    }
   ],
   "source": [
    "# Analyze the distribution of anomaly scores\n",
    "plt.hist(sampled_data['Anomaly_Score'], bins=50, edgecolor='k')\n",
    "plt.xlabel('Anomaly Score')\n",
    "plt.ylabel('Frequency')\n",
    "plt.title('Distribution of Anomaly Scores')\n",
    "plt.show()"
   ]
  },
  {
   "cell_type": "code",
   "execution_count": 22,
   "id": "7560d677",
   "metadata": {},
   "outputs": [],
   "source": [
    "threshold = 0.5"
   ]
  },
  {
   "cell_type": "code",
   "execution_count": 23,
   "id": "e4da765e",
   "metadata": {},
   "outputs": [
    {
     "name": "stdout",
     "output_type": "stream",
     "text": [
      "1    12236\n",
      "0     6440\n",
      "Name: Predicted_Label, dtype: int64\n"
     ]
    }
   ],
   "source": [
    "# Label data based on the threshold\n",
    "sampled_data['Predicted_Label'] = (sampled_data['Anomaly_Score'] < threshold).astype(int)\n",
    "\n",
    "# Check the distribution of the predicted labels\n",
    "label_distribution = sampled_data['Predicted_Label'].value_counts()\n",
    "print(label_distribution)"
   ]
  },
  {
   "cell_type": "code",
   "execution_count": 24,
   "id": "69f223b0",
   "metadata": {},
   "outputs": [
    {
     "name": "stdout",
     "output_type": "stream",
     "text": [
      "  Materialnummer  Lieferant OB    Vertrag OB  Vertragsposition OB  \\\n",
      "0     23884900UB        700000           NaN                    0   \n",
      "1       00360029        701806  5.500001e+09                   10   \n",
      "2       04002905        706808           NaN                    0   \n",
      "3       60022412          1000           NaN                    0   \n",
      "4     01568000UB        700000           NaN                    0   \n",
      "\n",
      "   Planlieferzeit Vertrag  Vertrag Fix1  Vertrag_Fix2 Beschaffungsart  \\\n",
      "0                       0             0             0               F   \n",
      "1                       4             4            60               F   \n",
      "2                       0             0             0               F   \n",
      "3                       0             0             0               F   \n",
      "4                       0             0             0               F   \n",
      "\n",
      "   Sonderbeschaffungsart  Disponent  ...  Werk OB Werk Infosatz  \\\n",
      "0                    NaN        723  ...     2000           NaN   \n",
      "1                    NaN        708  ...     2100           NaN   \n",
      "2                    NaN        272  ...     3000           NaN   \n",
      "3                    NaN        991  ...     2100           NaN   \n",
      "4                    NaN        223  ...     2100           NaN   \n",
      "\n",
      "  Infosatznummer  Infosatztyp  WE_Bearbeitungszeit  Planlieferzeit Mat-Stamm  \\\n",
      "0   5.300024e+09          0.0                    1                        56   \n",
      "1   5.300174e+09          0.0                    2                         4   \n",
      "2   5.300107e+09          0.0                    1                        14   \n",
      "3   5.300376e+09          0.0                    1                        42   \n",
      "4   5.300179e+09          0.0                    1                        64   \n",
      "\n",
      "  Warengruppe  Basiseinheit  Anomaly_Score  Predicted_Label  \n",
      "0    10401000            ST       0.175464                1  \n",
      "1   140100000            ST       0.430000                1  \n",
      "2   130600000            ST       0.685000                0  \n",
      "3    10402000            ST       0.443142                1  \n",
      "4    10401000            ST       0.594039                0  \n",
      "\n",
      "[5 rows x 27 columns]\n"
     ]
    }
   ],
   "source": [
    "# Save the labeled data to a new CSV file\n",
    "sampled_data.to_csv('sampled_data_with_anomaly_labels.csv', index=False)\n",
    "\n",
    "# Print the first few rows of the labeled data\n",
    "print(sampled_data.head())"
   ]
  },
  {
   "cell_type": "code",
   "execution_count": null,
   "id": "c3c5b681",
   "metadata": {},
   "outputs": [],
   "source": []
  }
 ],
 "metadata": {
  "kernelspec": {
   "display_name": "Python 3 (ipykernel)",
   "language": "python",
   "name": "python3"
  },
  "language_info": {
   "codemirror_mode": {
    "name": "ipython",
    "version": 3
   },
   "file_extension": ".py",
   "mimetype": "text/x-python",
   "name": "python",
   "nbconvert_exporter": "python",
   "pygments_lexer": "ipython3",
   "version": "3.9.12"
  }
 },
 "nbformat": 4,
 "nbformat_minor": 5
}
